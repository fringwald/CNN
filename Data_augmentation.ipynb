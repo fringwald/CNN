{
  "nbformat": 4,
  "nbformat_minor": 0,
  "metadata": {
    "colab": {
      "name": "Data augmentation.ipynb",
      "provenance": [],
      "collapsed_sections": [],
      "authorship_tag": "ABX9TyPSp3hY9QIMcYSV4aTt5XTg",
      "include_colab_link": true
    },
    "kernelspec": {
      "name": "python3",
      "display_name": "Python 3"
    },
    "accelerator": "GPU"
  },
  "cells": [
    {
      "cell_type": "markdown",
      "metadata": {
        "id": "view-in-github",
        "colab_type": "text"
      },
      "source": [
        "<a href=\"https://colab.research.google.com/github/fringwald/CNN/blob/master/Data_augmentation.ipynb\" target=\"_parent\"><img src=\"https://colab.research.google.com/assets/colab-badge.svg\" alt=\"Open In Colab\"/></a>"
      ]
    },
    {
      "cell_type": "markdown",
      "metadata": {
        "id": "N7Ez-_V18LWF"
      },
      "source": [
        "# Data augmentation\n",
        "In this notebook you can execute code snippets to get an understanding of how data augmentation works.\n",
        "\n",
        "To execute the notebook click in the header above:\n",
        "\n",
        " Laufzeit -> alle ausführen\n",
        "\n",
        "Excercises:\n",
        "\n",
        "The output images can be found at the bottom of the page\n",
        "\n",
        "\n",
        "\n",
        "1.   Apply different augmentations by removing the # at the beginning of the   line in the **Data augmentation** code block below.\n",
        "\n",
        "2. Play around with numerical values in brackets behind each transformation\n",
        "\n",
        "      Remember to execute the notebook again after each change as described above (Laufzeit -> alles ausführen)\n",
        "3.   Think about which augmentations are useful in the MNIST dataset vs. the CIFAR dataset.\n",
        "      \n",
        "      -> Rotation, Flipping, etc.\n",
        "\n",
        "4.   You can change the dataset by replacing MNIST with CIFAR10 in the **Loading the data** code block below \n",
        "    \n",
        "\n"
      ]
    },
    {
      "cell_type": "code",
      "metadata": {
        "id": "-s4PtwJi8fBD",
        "cellView": "form",
        "outputId": "0b4730b5-12dd-4236-946f-170b2ed89475",
        "colab": {
          "base_uri": "https://localhost:8080/",
          "height": 35
        }
      },
      "source": [
        "#@title Setting up the environment and all the necessary imports\n",
        "#setting up the environment and all the necessary imports\n",
        "\n",
        "import torch\n",
        "import torchvision\n",
        "import matplotlib.pyplot as plt\n",
        "import matplotlib.image as mpimg\n",
        "print('Environment set up and all imports done!')"
      ],
      "execution_count": null,
      "outputs": [
        {
          "output_type": "stream",
          "text": [
            "Environment set up and all imports done!\n"
          ],
          "name": "stdout"
        }
      ]
    },
    {
      "cell_type": "markdown",
      "metadata": {
        "id": "jr3UbZyjH4Qz"
      },
      "source": [
        "#**Data augmentation**\n",
        "In the next code section you can see different transforms applied on the images.\n",
        "\n",
        "By removing the comment of a line (#), you can apply more transforms and see the output below."
      ]
    },
    {
      "cell_type": "code",
      "metadata": {
        "id": "xI563Jx18obK"
      },
      "source": [
        "data_transforms = torchvision.transforms.Compose([\n",
        "                                        #torchvision.transforms.RandomHorizontalFlip(p=0.5), #Flipping the image horizontally with a probability of 0.5\n",
        "                                        #torchvision.transforms.RandomVerticalFlip(p=0.5), #Flipping the image vertically with a probability of 0.5\n",
        "                                        #torchvision.transforms.RandomRotation([-180,180]), #Rotating the image between [-180°, 180°] randomly\n",
        "                                        #torchvision.transforms.RandomAffine([-90,90]), #affine transformation to keep center invariant\n",
        "                                        torchvision.transforms.ToTensor(), #transforming it to tensor for plotting\n",
        "                                        #torchvision.transforms.Normalize((0.5,),(0.5,))\n",
        "                                        ])\n"
      ],
      "execution_count": null,
      "outputs": []
    },
    {
      "cell_type": "markdown",
      "metadata": {
        "id": "M8WRO1nmLVw1"
      },
      "source": [
        "To change the dataset which you load simply replace MNIST with CIFAR10 in the section below.\n"
      ]
    },
    {
      "cell_type": "code",
      "metadata": {
        "id": "ltKnbbZy8UR6",
        "cellView": "both",
        "outputId": "3e9ba6bb-4710-4ac9-a47a-77fdd8e5863d",
        "colab": {
          "base_uri": "https://localhost:8080/",
          "height": 35
        }
      },
      "source": [
        "#@title Loading the data\n",
        "#loading the data\n",
        "aug_loader = torch.utils.data.DataLoader(\n",
        "  torchvision.datasets.MNIST('/files/', train=True, download=True,\n",
        "                             transform= data_transforms),\n",
        "                             batch_size= 64, shuffle=True)\n",
        "print('Data successfully loaded')"
      ],
      "execution_count": null,
      "outputs": [
        {
          "output_type": "stream",
          "text": [
            "Data successfully loaded\n"
          ],
          "name": "stdout"
        }
      ]
    },
    {
      "cell_type": "code",
      "metadata": {
        "id": "bHunbK6v9MTi",
        "cellView": "form",
        "outputId": "f7078732-95d5-4b98-ebb5-c8d92e690db4",
        "colab": {
          "base_uri": "https://localhost:8080/",
          "height": 551
        }
      },
      "source": [
        "#@title\n",
        "#visualizing some samples to get a better understanding of images\n",
        "examples = enumerate(aug_loader)\n",
        "batch_idx, (example_data, example_targets) = next(examples)\n",
        "example_data.shape\n",
        "\n",
        "fig = plt.figure()\n",
        "for i in range(6):\n",
        "  plt.subplot(2,3,i+1)\n",
        "  plt.tight_layout()\n",
        "  plt.imshow(example_data[i][0], cmap='gray', interpolation = 'nearest') #  cmap='gray',  interpolation='none'\n",
        "  plt.title(\"Ground Truth: {}\".format(example_targets[i]))\n",
        "  plt.xticks([])\n",
        "  plt.yticks([])\n",
        "fig"
      ],
      "execution_count": null,
      "outputs": [
        {
          "output_type": "execute_result",
          "data": {
            "image/png": "[encoded data removed]",
            "text/plain": [
              "<Figure size 432x288 with 6 Axes>"
            ]
          },
          "metadata": {
            "tags": []
          },
          "execution_count": 125
        },
        {
          "output_type": "display_data",
          "data": {
            "image/png": "[encoded data removed]",
            "text/plain": [
              "<Figure size 432x288 with 6 Axes>"
            ]
          },
          "metadata": {
            "tags": []
          }
        }
      ]
    }
  ]
}