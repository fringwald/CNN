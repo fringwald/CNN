{
  "nbformat": 4,
  "nbformat_minor": 0,
  "metadata": {
    "colab": {
      "name": "MNIST for data science workshop.ipynb",
      "provenance": [],
      "authorship_tag": "ABX9TyOyFhuaYfAbMvz2WgqdHoU/",
      "include_colab_link": true
    },
    "kernelspec": {
      "name": "python3",
      "display_name": "Python 3"
    },
    "accelerator": "GPU",
    "widgets": {
      "application/vnd.jupyter.widget-state+json": {
        "39ee142d22c2464eba03d800dff951d3": {
          "model_module": "@jupyter-widgets/controls",
          "model_name": "HBoxModel",
          "state": {
            "_view_name": "HBoxView",
            "_dom_classes": [],
            "_model_name": "HBoxModel",
            "_view_module": "@jupyter-widgets/controls",
            "_model_module_version": "1.5.0",
            "_view_count": null,
            "_view_module_version": "1.5.0",
            "box_style": "",
            "layout": "IPY_MODEL_1f36100c2d3e47b7805f4606a953a132",
            "_model_module": "@jupyter-widgets/controls",
            "children": [
              "IPY_MODEL_6bb8d39279ca416bab29b01c8c87018b",
              "IPY_MODEL_daf15b1ed4e846679c38394da5bb01f6"
            ]
          }
        },
        "1f36100c2d3e47b7805f4606a953a132": {
          "model_module": "@jupyter-widgets/base",
          "model_name": "LayoutModel",
          "state": {
            "_view_name": "LayoutView",
            "grid_template_rows": null,
            "right": null,
            "justify_content": null,
            "_view_module": "@jupyter-widgets/base",
            "overflow": null,
            "_model_module_version": "1.2.0",
            "_view_count": null,
            "flex_flow": null,
            "width": null,
            "min_width": null,
            "border": null,
            "align_items": null,
            "bottom": null,
            "_model_module": "@jupyter-widgets/base",
            "top": null,
            "grid_column": null,
            "overflow_y": null,
            "overflow_x": null,
            "grid_auto_flow": null,
            "grid_area": null,
            "grid_template_columns": null,
            "flex": null,
            "_model_name": "LayoutModel",
            "justify_items": null,
            "grid_row": null,
            "max_height": null,
            "align_content": null,
            "visibility": null,
            "align_self": null,
            "height": null,
            "min_height": null,
            "padding": null,
            "grid_auto_rows": null,
            "grid_gap": null,
            "max_width": null,
            "order": null,
            "_view_module_version": "1.2.0",
            "grid_template_areas": null,
            "object_position": null,
            "object_fit": null,
            "grid_auto_columns": null,
            "margin": null,
            "display": null,
            "left": null
          }
        },
        "6bb8d39279ca416bab29b01c8c87018b": {
          "model_module": "@jupyter-widgets/controls",
          "model_name": "FloatProgressModel",
          "state": {
            "_view_name": "ProgressView",
            "style": "IPY_MODEL_8d7329b46e1f42c0941b75fe4ce1ad7a",
            "_dom_classes": [],
            "description": "",
            "_model_name": "FloatProgressModel",
            "bar_style": "success",
            "max": 1,
            "_view_module": "@jupyter-widgets/controls",
            "_model_module_version": "1.5.0",
            "value": 1,
            "_view_count": null,
            "_view_module_version": "1.5.0",
            "orientation": "horizontal",
            "min": 0,
            "description_tooltip": null,
            "_model_module": "@jupyter-widgets/controls",
            "layout": "IPY_MODEL_488867a54fc9414db5b127af276a0083"
          }
        },
        "daf15b1ed4e846679c38394da5bb01f6": {
          "model_module": "@jupyter-widgets/controls",
          "model_name": "HTMLModel",
          "state": {
            "_view_name": "HTMLView",
            "style": "IPY_MODEL_223b54ce071042c3b26e566c6a4f9515",
            "_dom_classes": [],
            "description": "",
            "_model_name": "HTMLModel",
            "placeholder": "​",
            "_view_module": "@jupyter-widgets/controls",
            "_model_module_version": "1.5.0",
            "value": " 9920512/? [00:02&lt;00:00, 4778886.26it/s]",
            "_view_count": null,
            "_view_module_version": "1.5.0",
            "description_tooltip": null,
            "_model_module": "@jupyter-widgets/controls",
            "layout": "IPY_MODEL_8c654239c7784c33b223924051efaa54"
          }
        },
        "8d7329b46e1f42c0941b75fe4ce1ad7a": {
          "model_module": "@jupyter-widgets/controls",
          "model_name": "ProgressStyleModel",
          "state": {
            "_view_name": "StyleView",
            "_model_name": "ProgressStyleModel",
            "description_width": "initial",
            "_view_module": "@jupyter-widgets/base",
            "_model_module_version": "1.5.0",
            "_view_count": null,
            "_view_module_version": "1.2.0",
            "bar_color": null,
            "_model_module": "@jupyter-widgets/controls"
          }
        },
        "488867a54fc9414db5b127af276a0083": {
          "model_module": "@jupyter-widgets/base",
          "model_name": "LayoutModel",
          "state": {
            "_view_name": "LayoutView",
            "grid_template_rows": null,
            "right": null,
            "justify_content": null,
            "_view_module": "@jupyter-widgets/base",
            "overflow": null,
            "_model_module_version": "1.2.0",
            "_view_count": null,
            "flex_flow": null,
            "width": null,
            "min_width": null,
            "border": null,
            "align_items": null,
            "bottom": null,
            "_model_module": "@jupyter-widgets/base",
            "top": null,
            "grid_column": null,
            "overflow_y": null,
            "overflow_x": null,
            "grid_auto_flow": null,
            "grid_area": null,
            "grid_template_columns": null,
            "flex": null,
            "_model_name": "LayoutModel",
            "justify_items": null,
            "grid_row": null,
            "max_height": null,
            "align_content": null,
            "visibility": null,
            "align_self": null,
            "height": null,
            "min_height": null,
            "padding": null,
            "grid_auto_rows": null,
            "grid_gap": null,
            "max_width": null,
            "order": null,
            "_view_module_version": "1.2.0",
            "grid_template_areas": null,
            "object_position": null,
            "object_fit": null,
            "grid_auto_columns": null,
            "margin": null,
            "display": null,
            "left": null
          }
        },
        "223b54ce071042c3b26e566c6a4f9515": {
          "model_module": "@jupyter-widgets/controls",
          "model_name": "DescriptionStyleModel",
          "state": {
            "_view_name": "StyleView",
            "_model_name": "DescriptionStyleModel",
            "description_width": "",
            "_view_module": "@jupyter-widgets/base",
            "_model_module_version": "1.5.0",
            "_view_count": null,
            "_view_module_version": "1.2.0",
            "_model_module": "@jupyter-widgets/controls"
          }
        },
        "8c654239c7784c33b223924051efaa54": {
          "model_module": "@jupyter-widgets/base",
          "model_name": "LayoutModel",
          "state": {
            "_view_name": "LayoutView",
            "grid_template_rows": null,
            "right": null,
            "justify_content": null,
            "_view_module": "@jupyter-widgets/base",
            "overflow": null,
            "_model_module_version": "1.2.0",
            "_view_count": null,
            "flex_flow": null,
            "width": null,
            "min_width": null,
            "border": null,
            "align_items": null,
            "bottom": null,
            "_model_module": "@jupyter-widgets/base",
            "top": null,
            "grid_column": null,
            "overflow_y": null,
            "overflow_x": null,
            "grid_auto_flow": null,
            "grid_area": null,
            "grid_template_columns": null,
            "flex": null,
            "_model_name": "LayoutModel",
            "justify_items": null,
            "grid_row": null,
            "max_height": null,
            "align_content": null,
            "visibility": null,
            "align_self": null,
            "height": null,
            "min_height": null,
            "padding": null,
            "grid_auto_rows": null,
            "grid_gap": null,
            "max_width": null,
            "order": null,
            "_view_module_version": "1.2.0",
            "grid_template_areas": null,
            "object_position": null,
            "object_fit": null,
            "grid_auto_columns": null,
            "margin": null,
            "display": null,
            "left": null
          }
        },
        "8bb5f822e993473fb85aa5af6a796b7b": {
          "model_module": "@jupyter-widgets/controls",
          "model_name": "HBoxModel",
          "state": {
            "_view_name": "HBoxView",
            "_dom_classes": [],
            "_model_name": "HBoxModel",
            "_view_module": "@jupyter-widgets/controls",
            "_model_module_version": "1.5.0",
            "_view_count": null,
            "_view_module_version": "1.5.0",
            "box_style": "",
            "layout": "IPY_MODEL_78160f49f4cf44539cd3488db07e4ff3",
            "_model_module": "@jupyter-widgets/controls",
            "children": [
              "IPY_MODEL_dbc5ddf2f34c4a59b2ecee2ac6af8831",
              "IPY_MODEL_664bc33dbb7b4b379cf32acc74c68a84"
            ]
          }
        },
        "78160f49f4cf44539cd3488db07e4ff3": {
          "model_module": "@jupyter-widgets/base",
          "model_name": "LayoutModel",
          "state": {
            "_view_name": "LayoutView",
            "grid_template_rows": null,
            "right": null,
            "justify_content": null,
            "_view_module": "@jupyter-widgets/base",
            "overflow": null,
            "_model_module_version": "1.2.0",
            "_view_count": null,
            "flex_flow": null,
            "width": null,
            "min_width": null,
            "border": null,
            "align_items": null,
            "bottom": null,
            "_model_module": "@jupyter-widgets/base",
            "top": null,
            "grid_column": null,
            "overflow_y": null,
            "overflow_x": null,
            "grid_auto_flow": null,
            "grid_area": null,
            "grid_template_columns": null,
            "flex": null,
            "_model_name": "LayoutModel",
            "justify_items": null,
            "grid_row": null,
            "max_height": null,
            "align_content": null,
            "visibility": null,
            "align_self": null,
            "height": null,
            "min_height": null,
            "padding": null,
            "grid_auto_rows": null,
            "grid_gap": null,
            "max_width": null,
            "order": null,
            "_view_module_version": "1.2.0",
            "grid_template_areas": null,
            "object_position": null,
            "object_fit": null,
            "grid_auto_columns": null,
            "margin": null,
            "display": null,
            "left": null
          }
        },
        "dbc5ddf2f34c4a59b2ecee2ac6af8831": {
          "model_module": "@jupyter-widgets/controls",
          "model_name": "FloatProgressModel",
          "state": {
            "_view_name": "ProgressView",
            "style": "IPY_MODEL_c07a93d64be4426fa06c206ff312fdee",
            "_dom_classes": [],
            "description": "",
            "_model_name": "FloatProgressModel",
            "bar_style": "success",
            "max": 1,
            "_view_module": "@jupyter-widgets/controls",
            "_model_module_version": "1.5.0",
            "value": 1,
            "_view_count": null,
            "_view_module_version": "1.5.0",
            "orientation": "horizontal",
            "min": 0,
            "description_tooltip": null,
            "_model_module": "@jupyter-widgets/controls",
            "layout": "IPY_MODEL_33ba370f881444fbb70fbffa028971f2"
          }
        },
        "664bc33dbb7b4b379cf32acc74c68a84": {
          "model_module": "@jupyter-widgets/controls",
          "model_name": "HTMLModel",
          "state": {
            "_view_name": "HTMLView",
            "style": "IPY_MODEL_475d0bb046064da297a583d3a67f8c1f",
            "_dom_classes": [],
            "description": "",
            "_model_name": "HTMLModel",
            "placeholder": "​",
            "_view_module": "@jupyter-widgets/controls",
            "_model_module_version": "1.5.0",
            "value": " 32768/? [00:00&lt;00:00, 181331.76it/s]",
            "_view_count": null,
            "_view_module_version": "1.5.0",
            "description_tooltip": null,
            "_model_module": "@jupyter-widgets/controls",
            "layout": "IPY_MODEL_d4d81f5dc1b24c76ad835ea3446c1ad6"
          }
        },
        "c07a93d64be4426fa06c206ff312fdee": {
          "model_module": "@jupyter-widgets/controls",
          "model_name": "ProgressStyleModel",
          "state": {
            "_view_name": "StyleView",
            "_model_name": "ProgressStyleModel",
            "description_width": "initial",
            "_view_module": "@jupyter-widgets/base",
            "_model_module_version": "1.5.0",
            "_view_count": null,
            "_view_module_version": "1.2.0",
            "bar_color": null,
            "_model_module": "@jupyter-widgets/controls"
          }
        },
        "33ba370f881444fbb70fbffa028971f2": {
          "model_module": "@jupyter-widgets/base",
          "model_name": "LayoutModel",
          "state": {
            "_view_name": "LayoutView",
            "grid_template_rows": null,
            "right": null,
            "justify_content": null,
            "_view_module": "@jupyter-widgets/base",
            "overflow": null,
            "_model_module_version": "1.2.0",
            "_view_count": null,
            "flex_flow": null,
            "width": null,
            "min_width": null,
            "border": null,
            "align_items": null,
            "bottom": null,
            "_model_module": "@jupyter-widgets/base",
            "top": null,
            "grid_column": null,
            "overflow_y": null,
            "overflow_x": null,
            "grid_auto_flow": null,
            "grid_area": null,
            "grid_template_columns": null,
            "flex": null,
            "_model_name": "LayoutModel",
            "justify_items": null,
            "grid_row": null,
            "max_height": null,
            "align_content": null,
            "visibility": null,
            "align_self": null,
            "height": null,
            "min_height": null,
            "padding": null,
            "grid_auto_rows": null,
            "grid_gap": null,
            "max_width": null,
            "order": null,
            "_view_module_version": "1.2.0",
            "grid_template_areas": null,
            "object_position": null,
            "object_fit": null,
            "grid_auto_columns": null,
            "margin": null,
            "display": null,
            "left": null
          }
        },
        "475d0bb046064da297a583d3a67f8c1f": {
          "model_module": "@jupyter-widgets/controls",
          "model_name": "DescriptionStyleModel",
          "state": {
            "_view_name": "StyleView",
            "_model_name": "DescriptionStyleModel",
            "description_width": "",
            "_view_module": "@jupyter-widgets/base",
            "_model_module_version": "1.5.0",
            "_view_count": null,
            "_view_module_version": "1.2.0",
            "_model_module": "@jupyter-widgets/controls"
          }
        },
        "d4d81f5dc1b24c76ad835ea3446c1ad6": {
          "model_module": "@jupyter-widgets/base",
          "model_name": "LayoutModel",
          "state": {
            "_view_name": "LayoutView",
            "grid_template_rows": null,
            "right": null,
            "justify_content": null,
            "_view_module": "@jupyter-widgets/base",
            "overflow": null,
            "_model_module_version": "1.2.0",
            "_view_count": null,
            "flex_flow": null,
            "width": null,
            "min_width": null,
            "border": null,
            "align_items": null,
            "bottom": null,
            "_model_module": "@jupyter-widgets/base",
            "top": null,
            "grid_column": null,
            "overflow_y": null,
            "overflow_x": null,
            "grid_auto_flow": null,
            "grid_area": null,
            "grid_template_columns": null,
            "flex": null,
            "_model_name": "LayoutModel",
            "justify_items": null,
            "grid_row": null,
            "max_height": null,
            "align_content": null,
            "visibility": null,
            "align_self": null,
            "height": null,
            "min_height": null,
            "padding": null,
            "grid_auto_rows": null,
            "grid_gap": null,
            "max_width": null,
            "order": null,
            "_view_module_version": "1.2.0",
            "grid_template_areas": null,
            "object_position": null,
            "object_fit": null,
            "grid_auto_columns": null,
            "margin": null,
            "display": null,
            "left": null
          }
        },
        "0023a1ae1b814b4ba3510d3875b0df53": {
          "model_module": "@jupyter-widgets/controls",
          "model_name": "HBoxModel",
          "state": {
            "_view_name": "HBoxView",
            "_dom_classes": [],
            "_model_name": "HBoxModel",
            "_view_module": "@jupyter-widgets/controls",
            "_model_module_version": "1.5.0",
            "_view_count": null,
            "_view_module_version": "1.5.0",
            "box_style": "",
            "layout": "IPY_MODEL_17ccf83e43e94298b70e5abe89adc03b",
            "_model_module": "@jupyter-widgets/controls",
            "children": [
              "IPY_MODEL_a1e8ac0620fa48659d27c4a513c3462c",
              "IPY_MODEL_78a37f5308a9400f8333fa79bdb01f21"
            ]
          }
        },
        "17ccf83e43e94298b70e5abe89adc03b": {
          "model_module": "@jupyter-widgets/base",
          "model_name": "LayoutModel",
          "state": {
            "_view_name": "LayoutView",
            "grid_template_rows": null,
            "right": null,
            "justify_content": null,
            "_view_module": "@jupyter-widgets/base",
            "overflow": null,
            "_model_module_version": "1.2.0",
            "_view_count": null,
            "flex_flow": null,
            "width": null,
            "min_width": null,
            "border": null,
            "align_items": null,
            "bottom": null,
            "_model_module": "@jupyter-widgets/base",
            "top": null,
            "grid_column": null,
            "overflow_y": null,
            "overflow_x": null,
            "grid_auto_flow": null,
            "grid_area": null,
            "grid_template_columns": null,
            "flex": null,
            "_model_name": "LayoutModel",
            "justify_items": null,
            "grid_row": null,
            "max_height": null,
            "align_content": null,
            "visibility": null,
            "align_self": null,
            "height": null,
            "min_height": null,
            "padding": null,
            "grid_auto_rows": null,
            "grid_gap": null,
            "max_width": null,
            "order": null,
            "_view_module_version": "1.2.0",
            "grid_template_areas": null,
            "object_position": null,
            "object_fit": null,
            "grid_auto_columns": null,
            "margin": null,
            "display": null,
            "left": null
          }
        },
        "a1e8ac0620fa48659d27c4a513c3462c": {
          "model_module": "@jupyter-widgets/controls",
          "model_name": "FloatProgressModel",
          "state": {
            "_view_name": "ProgressView",
            "style": "IPY_MODEL_258ccf31a2bd462f82121d94099dffc3",
            "_dom_classes": [],
            "description": "",
            "_model_name": "FloatProgressModel",
            "bar_style": "success",
            "max": 1,
            "_view_module": "@jupyter-widgets/controls",
            "_model_module_version": "1.5.0",
            "value": 1,
            "_view_count": null,
            "_view_module_version": "1.5.0",
            "orientation": "horizontal",
            "min": 0,
            "description_tooltip": null,
            "_model_module": "@jupyter-widgets/controls",
            "layout": "IPY_MODEL_6f8a32b23edf40ad81a0f8428692abc3"
          }
        },
        "78a37f5308a9400f8333fa79bdb01f21": {
          "model_module": "@jupyter-widgets/controls",
          "model_name": "HTMLModel",
          "state": {
            "_view_name": "HTMLView",
            "style": "IPY_MODEL_faf5edaff223459fb6703cc00ef78a86",
            "_dom_classes": [],
            "description": "",
            "_model_name": "HTMLModel",
            "placeholder": "​",
            "_view_module": "@jupyter-widgets/controls",
            "_model_module_version": "1.5.0",
            "value": " 1654784/? [00:01&lt;00:00, 1544747.67it/s]",
            "_view_count": null,
            "_view_module_version": "1.5.0",
            "description_tooltip": null,
            "_model_module": "@jupyter-widgets/controls",
            "layout": "IPY_MODEL_a95a614e64b84a7d93ec4410e190289a"
          }
        },
        "258ccf31a2bd462f82121d94099dffc3": {
          "model_module": "@jupyter-widgets/controls",
          "model_name": "ProgressStyleModel",
          "state": {
            "_view_name": "StyleView",
            "_model_name": "ProgressStyleModel",
            "description_width": "initial",
            "_view_module": "@jupyter-widgets/base",
            "_model_module_version": "1.5.0",
            "_view_count": null,
            "_view_module_version": "1.2.0",
            "bar_color": null,
            "_model_module": "@jupyter-widgets/controls"
          }
        },
        "6f8a32b23edf40ad81a0f8428692abc3": {
          "model_module": "@jupyter-widgets/base",
          "model_name": "LayoutModel",
          "state": {
            "_view_name": "LayoutView",
            "grid_template_rows": null,
            "right": null,
            "justify_content": null,
            "_view_module": "@jupyter-widgets/base",
            "overflow": null,
            "_model_module_version": "1.2.0",
            "_view_count": null,
            "flex_flow": null,
            "width": null,
            "min_width": null,
            "border": null,
            "align_items": null,
            "bottom": null,
            "_model_module": "@jupyter-widgets/base",
            "top": null,
            "grid_column": null,
            "overflow_y": null,
            "overflow_x": null,
            "grid_auto_flow": null,
            "grid_area": null,
            "grid_template_columns": null,
            "flex": null,
            "_model_name": "LayoutModel",
            "justify_items": null,
            "grid_row": null,
            "max_height": null,
            "align_content": null,
            "visibility": null,
            "align_self": null,
            "height": null,
            "min_height": null,
            "padding": null,
            "grid_auto_rows": null,
            "grid_gap": null,
            "max_width": null,
            "order": null,
            "_view_module_version": "1.2.0",
            "grid_template_areas": null,
            "object_position": null,
            "object_fit": null,
            "grid_auto_columns": null,
            "margin": null,
            "display": null,
            "left": null
          }
        },
        "faf5edaff223459fb6703cc00ef78a86": {
          "model_module": "@jupyter-widgets/controls",
          "model_name": "DescriptionStyleModel",
          "state": {
            "_view_name": "StyleView",
            "_model_name": "DescriptionStyleModel",
            "description_width": "",
            "_view_module": "@jupyter-widgets/base",
            "_model_module_version": "1.5.0",
            "_view_count": null,
            "_view_module_version": "1.2.0",
            "_model_module": "@jupyter-widgets/controls"
          }
        },
        "a95a614e64b84a7d93ec4410e190289a": {
          "model_module": "@jupyter-widgets/base",
          "model_name": "LayoutModel",
          "state": {
            "_view_name": "LayoutView",
            "grid_template_rows": null,
            "right": null,
            "justify_content": null,
            "_view_module": "@jupyter-widgets/base",
            "overflow": null,
            "_model_module_version": "1.2.0",
            "_view_count": null,
            "flex_flow": null,
            "width": null,
            "min_width": null,
            "border": null,
            "align_items": null,
            "bottom": null,
            "_model_module": "@jupyter-widgets/base",
            "top": null,
            "grid_column": null,
            "overflow_y": null,
            "overflow_x": null,
            "grid_auto_flow": null,
            "grid_area": null,
            "grid_template_columns": null,
            "flex": null,
            "_model_name": "LayoutModel",
            "justify_items": null,
            "grid_row": null,
            "max_height": null,
            "align_content": null,
            "visibility": null,
            "align_self": null,
            "height": null,
            "min_height": null,
            "padding": null,
            "grid_auto_rows": null,
            "grid_gap": null,
            "max_width": null,
            "order": null,
            "_view_module_version": "1.2.0",
            "grid_template_areas": null,
            "object_position": null,
            "object_fit": null,
            "grid_auto_columns": null,
            "margin": null,
            "display": null,
            "left": null
          }
        },
        "40fd87fc041a4bbfb1f78f1bdf271be3": {
          "model_module": "@jupyter-widgets/controls",
          "model_name": "HBoxModel",
          "state": {
            "_view_name": "HBoxView",
            "_dom_classes": [],
            "_model_name": "HBoxModel",
            "_view_module": "@jupyter-widgets/controls",
            "_model_module_version": "1.5.0",
            "_view_count": null,
            "_view_module_version": "1.5.0",
            "box_style": "",
            "layout": "IPY_MODEL_391c97cfff0447e49715b09ce2315e3a",
            "_model_module": "@jupyter-widgets/controls",
            "children": [
              "IPY_MODEL_62d4c288b6ed4256a29f031f79fcb995",
              "IPY_MODEL_5fd6e19969264be082919a325af65770"
            ]
          }
        },
        "391c97cfff0447e49715b09ce2315e3a": {
          "model_module": "@jupyter-widgets/base",
          "model_name": "LayoutModel",
          "state": {
            "_view_name": "LayoutView",
            "grid_template_rows": null,
            "right": null,
            "justify_content": null,
            "_view_module": "@jupyter-widgets/base",
            "overflow": null,
            "_model_module_version": "1.2.0",
            "_view_count": null,
            "flex_flow": null,
            "width": null,
            "min_width": null,
            "border": null,
            "align_items": null,
            "bottom": null,
            "_model_module": "@jupyter-widgets/base",
            "top": null,
            "grid_column": null,
            "overflow_y": null,
            "overflow_x": null,
            "grid_auto_flow": null,
            "grid_area": null,
            "grid_template_columns": null,
            "flex": null,
            "_model_name": "LayoutModel",
            "justify_items": null,
            "grid_row": null,
            "max_height": null,
            "align_content": null,
            "visibility": null,
            "align_self": null,
            "height": null,
            "min_height": null,
            "padding": null,
            "grid_auto_rows": null,
            "grid_gap": null,
            "max_width": null,
            "order": null,
            "_view_module_version": "1.2.0",
            "grid_template_areas": null,
            "object_position": null,
            "object_fit": null,
            "grid_auto_columns": null,
            "margin": null,
            "display": null,
            "left": null
          }
        },
        "62d4c288b6ed4256a29f031f79fcb995": {
          "model_module": "@jupyter-widgets/controls",
          "model_name": "FloatProgressModel",
          "state": {
            "_view_name": "ProgressView",
            "style": "IPY_MODEL_29246398dd0d4fc9bd1eeba5a270e0de",
            "_dom_classes": [],
            "description": "",
            "_model_name": "FloatProgressModel",
            "bar_style": "success",
            "max": 1,
            "_view_module": "@jupyter-widgets/controls",
            "_model_module_version": "1.5.0",
            "value": 1,
            "_view_count": null,
            "_view_module_version": "1.5.0",
            "orientation": "horizontal",
            "min": 0,
            "description_tooltip": null,
            "_model_module": "@jupyter-widgets/controls",
            "layout": "IPY_MODEL_31b4a77c193d49a0b6839cba83a2e501"
          }
        },
        "5fd6e19969264be082919a325af65770": {
          "model_module": "@jupyter-widgets/controls",
          "model_name": "HTMLModel",
          "state": {
            "_view_name": "HTMLView",
            "style": "IPY_MODEL_c377819488344b29855fc8c9af791d66",
            "_dom_classes": [],
            "description": "",
            "_model_name": "HTMLModel",
            "placeholder": "​",
            "_view_module": "@jupyter-widgets/controls",
            "_model_module_version": "1.5.0",
            "value": " 8192/? [00:00&lt;00:00, 20856.77it/s]",
            "_view_count": null,
            "_view_module_version": "1.5.0",
            "description_tooltip": null,
            "_model_module": "@jupyter-widgets/controls",
            "layout": "IPY_MODEL_7fb65f031b624656a7a409a6305f739e"
          }
        },
        "29246398dd0d4fc9bd1eeba5a270e0de": {
          "model_module": "@jupyter-widgets/controls",
          "model_name": "ProgressStyleModel",
          "state": {
            "_view_name": "StyleView",
            "_model_name": "ProgressStyleModel",
            "description_width": "initial",
            "_view_module": "@jupyter-widgets/base",
            "_model_module_version": "1.5.0",
            "_view_count": null,
            "_view_module_version": "1.2.0",
            "bar_color": null,
            "_model_module": "@jupyter-widgets/controls"
          }
        },
        "31b4a77c193d49a0b6839cba83a2e501": {
          "model_module": "@jupyter-widgets/base",
          "model_name": "LayoutModel",
          "state": {
            "_view_name": "LayoutView",
            "grid_template_rows": null,
            "right": null,
            "justify_content": null,
            "_view_module": "@jupyter-widgets/base",
            "overflow": null,
            "_model_module_version": "1.2.0",
            "_view_count": null,
            "flex_flow": null,
            "width": null,
            "min_width": null,
            "border": null,
            "align_items": null,
            "bottom": null,
            "_model_module": "@jupyter-widgets/base",
            "top": null,
            "grid_column": null,
            "overflow_y": null,
            "overflow_x": null,
            "grid_auto_flow": null,
            "grid_area": null,
            "grid_template_columns": null,
            "flex": null,
            "_model_name": "LayoutModel",
            "justify_items": null,
            "grid_row": null,
            "max_height": null,
            "align_content": null,
            "visibility": null,
            "align_self": null,
            "height": null,
            "min_height": null,
            "padding": null,
            "grid_auto_rows": null,
            "grid_gap": null,
            "max_width": null,
            "order": null,
            "_view_module_version": "1.2.0",
            "grid_template_areas": null,
            "object_position": null,
            "object_fit": null,
            "grid_auto_columns": null,
            "margin": null,
            "display": null,
            "left": null
          }
        },
        "c377819488344b29855fc8c9af791d66": {
          "model_module": "@jupyter-widgets/controls",
          "model_name": "DescriptionStyleModel",
          "state": {
            "_view_name": "StyleView",
            "_model_name": "DescriptionStyleModel",
            "description_width": "",
            "_view_module": "@jupyter-widgets/base",
            "_model_module_version": "1.5.0",
            "_view_count": null,
            "_view_module_version": "1.2.0",
            "_model_module": "@jupyter-widgets/controls"
          }
        },
        "7fb65f031b624656a7a409a6305f739e": {
          "model_module": "@jupyter-widgets/base",
          "model_name": "LayoutModel",
          "state": {
            "_view_name": "LayoutView",
            "grid_template_rows": null,
            "right": null,
            "justify_content": null,
            "_view_module": "@jupyter-widgets/base",
            "overflow": null,
            "_model_module_version": "1.2.0",
            "_view_count": null,
            "flex_flow": null,
            "width": null,
            "min_width": null,
            "border": null,
            "align_items": null,
            "bottom": null,
            "_model_module": "@jupyter-widgets/base",
            "top": null,
            "grid_column": null,
            "overflow_y": null,
            "overflow_x": null,
            "grid_auto_flow": null,
            "grid_area": null,
            "grid_template_columns": null,
            "flex": null,
            "_model_name": "LayoutModel",
            "justify_items": null,
            "grid_row": null,
            "max_height": null,
            "align_content": null,
            "visibility": null,
            "align_self": null,
            "height": null,
            "min_height": null,
            "padding": null,
            "grid_auto_rows": null,
            "grid_gap": null,
            "max_width": null,
            "order": null,
            "_view_module_version": "1.2.0",
            "grid_template_areas": null,
            "object_position": null,
            "object_fit": null,
            "grid_auto_columns": null,
            "margin": null,
            "display": null,
            "left": null
          }
        }
      }
    }
  },
  "cells": [
    {
      "cell_type": "markdown",
      "metadata": {
        "id": "view-in-github",
        "colab_type": "text"
      },
      "source": [
        "<a href=\"https://colab.research.google.com/github/fringwald/CNN/blob/master/MNIST_for_data_science_workshop.ipynb\" target=\"_parent\"><img src=\"https://colab.research.google.com/assets/colab-badge.svg\" alt=\"Open In Colab\"/></a>"
      ]
    },
    {
      "cell_type": "markdown",
      "metadata": {
        "id": "DxKOKqmsTqZV",
        "colab_type": "text"
      },
      "source": [
        "Pipeline to train a neural network to classify images\n",
        "\n",
        "F. Ringwald\n",
        "\n",
        "Contents:\n",
        "\n",
        "\n",
        "\n",
        "1.   Setting up Pytorch\n",
        "2.   Defining Hyperparameters\n",
        "3.   Loading data\n",
        "4.   Visualizing data\n",
        "5.   Defining network structure\n",
        "6.   Train and Test function\n",
        "7.   Evaluation and Statistics\n"
      ]
    },
    {
      "cell_type": "code",
      "metadata": {
        "id": "NFulNHUTG8BN",
        "colab_type": "code",
        "colab": {}
      },
      "source": [
        "#setting up the environment and all the necessary imports\n",
        "\n",
        "import torch\n",
        "import torchvision\n",
        "import matplotlib.pyplot as plt\n",
        "import torch.nn as nn\n",
        "import torch.nn.functional as F\n",
        "import torch.optim as optim"
      ],
      "execution_count": 1,
      "outputs": []
    },
    {
      "cell_type": "code",
      "metadata": {
        "id": "rqbNRygrG97r",
        "colab_type": "code",
        "colab": {
          "base_uri": "https://localhost:8080/",
          "height": 35
        },
        "outputId": "337a227e-aa81-4536-cc86-4dcdbd9012e8"
      },
      "source": [
        "#preparing the dataset\n",
        "#setting hyperparameters\n",
        "\n",
        "n_epochs = 3\n",
        "batch_size_train = 64\n",
        "batch_size_test = 1000\n",
        "learning_rate = 0.1\n",
        "momentum = 0.5\n",
        "log_interval = 10\n",
        "\n",
        "random_seed = 1\n",
        "torch.backends.cudnn.enabled = False\n",
        "torch.manual_seed(random_seed)"
      ],
      "execution_count": 2,
      "outputs": [
        {
          "output_type": "execute_result",
          "data": {
            "text/plain": [
              "<torch._C.Generator at 0x7f79ced1de10>"
            ]
          },
          "metadata": {
            "tags": []
          },
          "execution_count": 2
        }
      ]
    },
    {
      "cell_type": "code",
      "metadata": {
        "id": "JR-0qwzoMtBK",
        "colab_type": "code",
        "colab": {}
      },
      "source": [
        "#data augmentation\n",
        "data_transforms = torchvision.transforms.Compose([\n",
        "                                        torchvision.transforms.ToTensor(), \n",
        "                                        torchvision.transforms.Normalize((0.1307,), (0.3081,))])"
      ],
      "execution_count": 3,
      "outputs": []
    },
    {
      "cell_type": "code",
      "metadata": {
        "id": "-eMjFaTpG_aa",
        "colab_type": "code",
        "colab": {
          "base_uri": "https://localhost:8080/",
          "height": 404,
          "referenced_widgets": [
            "39ee142d22c2464eba03d800dff951d3",
            "1f36100c2d3e47b7805f4606a953a132",
            "6bb8d39279ca416bab29b01c8c87018b",
            "daf15b1ed4e846679c38394da5bb01f6",
            "8d7329b46e1f42c0941b75fe4ce1ad7a",
            "488867a54fc9414db5b127af276a0083",
            "223b54ce071042c3b26e566c6a4f9515",
            "8c654239c7784c33b223924051efaa54",
            "8bb5f822e993473fb85aa5af6a796b7b",
            "78160f49f4cf44539cd3488db07e4ff3",
            "dbc5ddf2f34c4a59b2ecee2ac6af8831",
            "664bc33dbb7b4b379cf32acc74c68a84",
            "c07a93d64be4426fa06c206ff312fdee",
            "33ba370f881444fbb70fbffa028971f2",
            "475d0bb046064da297a583d3a67f8c1f",
            "d4d81f5dc1b24c76ad835ea3446c1ad6",
            "0023a1ae1b814b4ba3510d3875b0df53",
            "17ccf83e43e94298b70e5abe89adc03b",
            "a1e8ac0620fa48659d27c4a513c3462c",
            "78a37f5308a9400f8333fa79bdb01f21",
            "258ccf31a2bd462f82121d94099dffc3",
            "6f8a32b23edf40ad81a0f8428692abc3",
            "faf5edaff223459fb6703cc00ef78a86",
            "a95a614e64b84a7d93ec4410e190289a",
            "40fd87fc041a4bbfb1f78f1bdf271be3",
            "391c97cfff0447e49715b09ce2315e3a",
            "62d4c288b6ed4256a29f031f79fcb995",
            "5fd6e19969264be082919a325af65770",
            "29246398dd0d4fc9bd1eeba5a270e0de",
            "31b4a77c193d49a0b6839cba83a2e501",
            "c377819488344b29855fc8c9af791d66",
            "7fb65f031b624656a7a409a6305f739e"
          ]
        },
        "outputId": "7a75fbe0-fa6f-428f-a889-e9eeb56fa1a3"
      },
      "source": [
        "#writing dataloader to load data\n",
        "train_loader = torch.utils.data.DataLoader(\n",
        "  torchvision.datasets.MNIST('/files/', train=True, download=True,\n",
        "                             transform= data_transforms),\n",
        "  batch_size=batch_size_train, shuffle=True)\n",
        "\n",
        "test_loader = torch.utils.data.DataLoader(\n",
        "  torchvision.datasets.MNIST('/files/', train=False, download=True,\n",
        "                             transform= data_transforms),\n",
        "  batch_size=batch_size_test, shuffle=True)"
      ],
      "execution_count": 4,
      "outputs": [
        {
          "output_type": "stream",
          "text": [
            "Downloading http://yann.lecun.com/exdb/mnist/train-images-idx3-ubyte.gz to /files/MNIST/raw/train-images-idx3-ubyte.gz\n"
          ],
          "name": "stdout"
        },
        {
          "output_type": "display_data",
          "data": {
            "application/vnd.jupyter.widget-view+json": {
              "model_id": "39ee142d22c2464eba03d800dff951d3",
              "version_minor": 0,
              "version_major": 2
            },
            "text/plain": [
              "HBox(children=(FloatProgress(value=1.0, bar_style='info', max=1.0), HTML(value='')))"
            ]
          },
          "metadata": {
            "tags": []
          }
        },
        {
          "output_type": "stream",
          "text": [
            "Extracting /files/MNIST/raw/train-images-idx3-ubyte.gz to /files/MNIST/raw\n",
            "Downloading http://yann.lecun.com/exdb/mnist/train-labels-idx1-ubyte.gz to /files/MNIST/raw/train-labels-idx1-ubyte.gz\n"
          ],
          "name": "stdout"
        },
        {
          "output_type": "display_data",
          "data": {
            "application/vnd.jupyter.widget-view+json": {
              "model_id": "8bb5f822e993473fb85aa5af6a796b7b",
              "version_minor": 0,
              "version_major": 2
            },
            "text/plain": [
              "HBox(children=(FloatProgress(value=1.0, bar_style='info', max=1.0), HTML(value='')))"
            ]
          },
          "metadata": {
            "tags": []
          }
        },
        {
          "output_type": "stream",
          "text": [
            "Extracting /files/MNIST/raw/train-labels-idx1-ubyte.gz to /files/MNIST/raw\n",
            "Downloading http://yann.lecun.com/exdb/mnist/t10k-images-idx3-ubyte.gz to /files/MNIST/raw/t10k-images-idx3-ubyte.gz\n",
            "\n"
          ],
          "name": "stdout"
        },
        {
          "output_type": "display_data",
          "data": {
            "application/vnd.jupyter.widget-view+json": {
              "model_id": "0023a1ae1b814b4ba3510d3875b0df53",
              "version_minor": 0,
              "version_major": 2
            },
            "text/plain": [
              "HBox(children=(FloatProgress(value=1.0, bar_style='info', max=1.0), HTML(value='')))"
            ]
          },
          "metadata": {
            "tags": []
          }
        },
        {
          "output_type": "stream",
          "text": [
            "Extracting /files/MNIST/raw/t10k-images-idx3-ubyte.gz to /files/MNIST/raw\n",
            "Downloading http://yann.lecun.com/exdb/mnist/t10k-labels-idx1-ubyte.gz to /files/MNIST/raw/t10k-labels-idx1-ubyte.gz\n"
          ],
          "name": "stdout"
        },
        {
          "output_type": "display_data",
          "data": {
            "application/vnd.jupyter.widget-view+json": {
              "model_id": "40fd87fc041a4bbfb1f78f1bdf271be3",
              "version_minor": 0,
              "version_major": 2
            },
            "text/plain": [
              "HBox(children=(FloatProgress(value=1.0, bar_style='info', max=1.0), HTML(value='')))"
            ]
          },
          "metadata": {
            "tags": []
          }
        },
        {
          "output_type": "stream",
          "text": [
            "Extracting /files/MNIST/raw/t10k-labels-idx1-ubyte.gz to /files/MNIST/raw\n",
            "Processing...\n",
            "Done!\n"
          ],
          "name": "stdout"
        },
        {
          "output_type": "stream",
          "text": [
            "/usr/local/lib/python3.6/dist-packages/torchvision/datasets/mnist.py:469: UserWarning: The given NumPy array is not writeable, and PyTorch does not support non-writeable tensors. This means you can write to the underlying (supposedly non-writeable) NumPy array using the tensor. You may want to copy the array to protect its data or make it writeable before converting it to a tensor. This type of warning will be suppressed for the rest of this program. (Triggered internally at  /pytorch/torch/csrc/utils/tensor_numpy.cpp:141.)\n",
            "  return torch.from_numpy(parsed.astype(m[2], copy=False)).view(*s)\n"
          ],
          "name": "stderr"
        }
      ]
    },
    {
      "cell_type": "code",
      "metadata": {
        "id": "679sUGyEHBGj",
        "colab_type": "code",
        "colab": {
          "base_uri": "https://localhost:8080/",
          "height": 606
        },
        "outputId": "01edbffd-9af5-4e2a-ecca-ff451cb120a1"
      },
      "source": [
        "#visualizing some samples to get a better understanding of images\n",
        "examples = enumerate(test_loader)\n",
        "batch_idx, (example_data, example_targets) = next(examples)\n",
        "example_data.shape\n",
        "\n",
        "fig = plt.figure()\n",
        "for i in range(6):\n",
        "  plt.subplot(2,3,i+1)\n",
        "  plt.tight_layout()\n",
        "  plt.imshow(example_data[i][0], cmap='gray', interpolation='none')\n",
        "  plt.title(\"Ground Truth: {}\".format(example_targets[i]))\n",
        "  plt.xticks([])\n",
        "  plt.yticks([])\n",
        "fig"
      ],
      "execution_count": 5,
      "outputs": [
        {
          "output_type": "stream",
          "text": [
            "\n",
            "\n",
            "\n"
          ],
          "name": "stdout"
        },
        {
          "output_type": "execute_result",
          "data": {
            "image/png": "[encoded data removed]",
            "text/plain": [
              "<Figure size 432x288 with 6 Axes>"
            ]
          },
          "metadata": {
            "tags": []
          },
          "execution_count": 5
        },
        {
          "output_type": "display_data",
          "data": {
            "image/png": "[encoded data removed]",
            "text/plain": [
              "<Figure size 432x288 with 6 Axes>"
            ]
          },
          "metadata": {
            "tags": []
          }
        }
      ]
    },
    {
      "cell_type": "code",
      "metadata": {
        "id": "Lf8YRA4WHK3D",
        "colab_type": "code",
        "colab": {}
      },
      "source": [
        "#building the network which we use to train\n",
        "class Net(nn.Module):\n",
        "    def __init__(self):\n",
        "        super(Net, self).__init__()\n",
        "        self.conv1 = nn.Conv2d(1, 10, kernel_size=5)\n",
        "        self.conv2 = nn.Conv2d(10, 20, kernel_size=5)\n",
        "        self.conv2_drop = nn.Dropout2d()\n",
        "        self.fc1 = nn.Linear(320, 50)\n",
        "        self.fc2 = nn.Linear(50, 10)\n",
        "\n",
        "    def forward(self, x):\n",
        "        x = F.relu(F.max_pool2d(self.conv1(x), 2))\n",
        "        x = F.relu(F.max_pool2d(self.conv2_drop(self.conv2(x)), 2))\n",
        "        x = x.view(-1, 320)\n",
        "        x = F.relu(self.fc1(x))\n",
        "        x = F.dropout(x, training=self.training)\n",
        "        x = self.fc2(x)\n",
        "        return F.log_softmax(x)"
      ],
      "execution_count": 6,
      "outputs": []
    },
    {
      "cell_type": "code",
      "metadata": {
        "id": "b6qvVJ36HMdq",
        "colab_type": "code",
        "colab": {}
      },
      "source": [
        "#let's initialize the network and the defined optimizer\n",
        "network = Net()\n",
        "optimizer = optim.SGD(network.parameters(), lr=learning_rate,\n",
        "                      momentum=momentum)"
      ],
      "execution_count": 7,
      "outputs": []
    },
    {
      "cell_type": "code",
      "metadata": {
        "id": "8TY-3w9QHOBC",
        "colab_type": "code",
        "colab": {}
      },
      "source": [
        "#setting up some variables to store information while training\n",
        "train_losses = []\n",
        "train_counter = []\n",
        "test_losses = []\n",
        "test_counter = [i*len(train_loader.dataset) for i in range(n_epochs + 1)]"
      ],
      "execution_count": 8,
      "outputs": []
    },
    {
      "cell_type": "code",
      "metadata": {
        "id": "SdEpfZSHHPbi",
        "colab_type": "code",
        "colab": {}
      },
      "source": [
        "#defining training function\n",
        "def train(epoch):\n",
        "  network.train()\n",
        "  for batch_idx, (data, target) in enumerate(train_loader):\n",
        "    optimizer.zero_grad()\n",
        "    output = network(data)\n",
        "    loss = F.nll_loss(output, target)\n",
        "    loss.backward()\n",
        "    optimizer.step()\n",
        "    if batch_idx % log_interval == 0:\n",
        "      print('Train Epoch: {} [{}/{} ({:.0f}%)]\\tLoss: {:.6f}'.format(\n",
        "        epoch, batch_idx * len(data), len(train_loader.dataset),\n",
        "        100. * batch_idx / len(train_loader), loss.item()))\n",
        "      train_losses.append(loss.item())\n",
        "      train_counter.append(\n",
        "        (batch_idx*64) + ((epoch-1)*len(train_loader.dataset)))\n",
        "      #torch.save(network.state_dict(), '/results/model.pth')\n",
        "      #torch.save(optimizer.state_dict(), '/results/optimizer.pth')"
      ],
      "execution_count": 9,
      "outputs": []
    },
    {
      "cell_type": "code",
      "metadata": {
        "id": "-tcqoe-xHRCq",
        "colab_type": "code",
        "colab": {}
      },
      "source": [
        "#defining test function\n",
        "def test():\n",
        "  network.eval()\n",
        "  test_loss = 0\n",
        "  correct = 0\n",
        "  with torch.no_grad():\n",
        "    for data, target in test_loader:\n",
        "      output = network(data)\n",
        "      test_loss += F.nll_loss(output, target, size_average=False).item()\n",
        "      pred = output.data.max(1, keepdim=True)[1]\n",
        "      correct += pred.eq(target.data.view_as(pred)).sum()\n",
        "  test_loss /= len(test_loader.dataset)\n",
        "  test_losses.append(test_loss)\n",
        "  print('\\nTest set: Avg. loss: {:.4f}, Accuracy: {}/{} ({:.0f}%)\\n'.format(\n",
        "    test_loss, correct, len(test_loader.dataset),\n",
        "    100. * correct / len(test_loader.dataset)))"
      ],
      "execution_count": 10,
      "outputs": []
    },
    {
      "cell_type": "code",
      "metadata": {
        "id": "musQYJUAHSQT",
        "colab_type": "code",
        "colab": {
          "base_uri": "https://localhost:8080/",
          "height": 1000
        },
        "outputId": "cb5671b5-070e-4783-8888-d5b0aed81a62"
      },
      "source": [
        "#now actually executing train and test function\n",
        "#we run the test() function once before the training to see how the network performs\n",
        "#with randomly initialized network parameters\n",
        "test()\n",
        "for epoch in range(1, n_epochs + 1):\n",
        "  train(epoch)\n",
        "  test()"
      ],
      "execution_count": null,
      "outputs": [
        {
          "output_type": "stream",
          "text": [
            "/usr/local/lib/python3.6/dist-packages/ipykernel_launcher.py:18: UserWarning: Implicit dimension choice for log_softmax has been deprecated. Change the call to include dim=X as an argument.\n",
            "/usr/local/lib/python3.6/dist-packages/torch/nn/_reduction.py:44: UserWarning: size_average and reduce args will be deprecated, please use reduction='sum' instead.\n",
            "  warnings.warn(warning.format(ret))\n"
          ],
          "name": "stderr"
        },
        {
          "output_type": "stream",
          "text": [
            "\n",
            "Test set: Avg. loss: 2.3004, Accuracy: 751/10000 (8%)\n",
            "\n",
            "Train Epoch: 1 [0/60000 (0%)]\tLoss: 2.268458\n",
            "Train Epoch: 1 [640/60000 (1%)]\tLoss: 2.036627\n",
            "Train Epoch: 1 [1280/60000 (2%)]\tLoss: 1.508244\n",
            "Train Epoch: 1 [1920/60000 (3%)]\tLoss: 1.184186\n",
            "Train Epoch: 1 [2560/60000 (4%)]\tLoss: 1.234908\n",
            "Train Epoch: 1 [3200/60000 (5%)]\tLoss: 0.825963\n",
            "Train Epoch: 1 [3840/60000 (6%)]\tLoss: 0.864684\n",
            "Train Epoch: 1 [4480/60000 (7%)]\tLoss: 0.941229\n",
            "Train Epoch: 1 [5120/60000 (9%)]\tLoss: 0.670949\n",
            "Train Epoch: 1 [5760/60000 (10%)]\tLoss: 0.622172\n",
            "Train Epoch: 1 [6400/60000 (11%)]\tLoss: 0.828794\n",
            "Train Epoch: 1 [7040/60000 (12%)]\tLoss: 0.615755\n",
            "Train Epoch: 1 [7680/60000 (13%)]\tLoss: 0.706148\n",
            "Train Epoch: 1 [8320/60000 (14%)]\tLoss: 0.590918\n",
            "Train Epoch: 1 [8960/60000 (15%)]\tLoss: 0.379998\n",
            "Train Epoch: 1 [9600/60000 (16%)]\tLoss: 0.503461\n",
            "Train Epoch: 1 [10240/60000 (17%)]\tLoss: 0.665795\n",
            "Train Epoch: 1 [10880/60000 (18%)]\tLoss: 0.427464\n",
            "Train Epoch: 1 [11520/60000 (19%)]\tLoss: 0.390311\n",
            "Train Epoch: 1 [12160/60000 (20%)]\tLoss: 0.474479\n",
            "Train Epoch: 1 [12800/60000 (21%)]\tLoss: 0.516409\n",
            "Train Epoch: 1 [13440/60000 (22%)]\tLoss: 0.489169\n",
            "Train Epoch: 1 [14080/60000 (23%)]\tLoss: 0.655883\n",
            "Train Epoch: 1 [14720/60000 (25%)]\tLoss: 0.612804\n",
            "Train Epoch: 1 [15360/60000 (26%)]\tLoss: 0.401143\n",
            "Train Epoch: 1 [16000/60000 (27%)]\tLoss: 0.343880\n",
            "Train Epoch: 1 [16640/60000 (28%)]\tLoss: 0.302427\n",
            "Train Epoch: 1 [17280/60000 (29%)]\tLoss: 0.362662\n",
            "Train Epoch: 1 [17920/60000 (30%)]\tLoss: 0.426913\n",
            "Train Epoch: 1 [18560/60000 (31%)]\tLoss: 0.237052\n",
            "Train Epoch: 1 [19200/60000 (32%)]\tLoss: 0.493105\n",
            "Train Epoch: 1 [19840/60000 (33%)]\tLoss: 0.455088\n",
            "Train Epoch: 1 [20480/60000 (34%)]\tLoss: 0.395256\n",
            "Train Epoch: 1 [21120/60000 (35%)]\tLoss: 0.279433\n",
            "Train Epoch: 1 [21760/60000 (36%)]\tLoss: 0.434459\n",
            "Train Epoch: 1 [22400/60000 (37%)]\tLoss: 0.451463\n",
            "Train Epoch: 1 [23040/60000 (38%)]\tLoss: 0.345130\n",
            "Train Epoch: 1 [23680/60000 (39%)]\tLoss: 0.352954\n",
            "Train Epoch: 1 [24320/60000 (41%)]\tLoss: 0.408681\n",
            "Train Epoch: 1 [24960/60000 (42%)]\tLoss: 0.231560\n",
            "Train Epoch: 1 [25600/60000 (43%)]\tLoss: 0.288557\n",
            "Train Epoch: 1 [26240/60000 (44%)]\tLoss: 0.255656\n",
            "Train Epoch: 1 [26880/60000 (45%)]\tLoss: 0.352760\n",
            "Train Epoch: 1 [27520/60000 (46%)]\tLoss: 0.283853\n",
            "Train Epoch: 1 [28160/60000 (47%)]\tLoss: 0.346064\n",
            "Train Epoch: 1 [28800/60000 (48%)]\tLoss: 0.256674\n",
            "Train Epoch: 1 [29440/60000 (49%)]\tLoss: 0.354330\n",
            "Train Epoch: 1 [30080/60000 (50%)]\tLoss: 0.614823\n",
            "Train Epoch: 1 [30720/60000 (51%)]\tLoss: 0.418430\n",
            "Train Epoch: 1 [31360/60000 (52%)]\tLoss: 0.376253\n",
            "Train Epoch: 1 [32000/60000 (53%)]\tLoss: 0.324213\n",
            "Train Epoch: 1 [32640/60000 (54%)]\tLoss: 0.310480\n",
            "Train Epoch: 1 [33280/60000 (55%)]\tLoss: 0.487547\n",
            "Train Epoch: 1 [33920/60000 (57%)]\tLoss: 0.247569\n",
            "Train Epoch: 1 [34560/60000 (58%)]\tLoss: 0.318233\n",
            "Train Epoch: 1 [35200/60000 (59%)]\tLoss: 0.192332\n",
            "Train Epoch: 1 [35840/60000 (60%)]\tLoss: 0.345251\n",
            "Train Epoch: 1 [36480/60000 (61%)]\tLoss: 0.177217\n",
            "Train Epoch: 1 [37120/60000 (62%)]\tLoss: 0.206640\n",
            "Train Epoch: 1 [37760/60000 (63%)]\tLoss: 0.373144\n",
            "Train Epoch: 1 [38400/60000 (64%)]\tLoss: 0.394716\n",
            "Train Epoch: 1 [39040/60000 (65%)]\tLoss: 0.296294\n",
            "Train Epoch: 1 [39680/60000 (66%)]\tLoss: 0.323244\n",
            "Train Epoch: 1 [40320/60000 (67%)]\tLoss: 0.286979\n",
            "Train Epoch: 1 [40960/60000 (68%)]\tLoss: 0.252385\n",
            "Train Epoch: 1 [41600/60000 (69%)]\tLoss: 0.144480\n",
            "Train Epoch: 1 [42240/60000 (70%)]\tLoss: 0.273112\n",
            "Train Epoch: 1 [42880/60000 (71%)]\tLoss: 0.337927\n",
            "Train Epoch: 1 [43520/60000 (72%)]\tLoss: 0.421108\n",
            "Train Epoch: 1 [44160/60000 (74%)]\tLoss: 0.253885\n",
            "Train Epoch: 1 [44800/60000 (75%)]\tLoss: 0.525770\n",
            "Train Epoch: 1 [45440/60000 (76%)]\tLoss: 0.361962\n",
            "Train Epoch: 1 [46080/60000 (77%)]\tLoss: 0.463169\n",
            "Train Epoch: 1 [46720/60000 (78%)]\tLoss: 0.396304\n",
            "Train Epoch: 1 [47360/60000 (79%)]\tLoss: 0.144736\n",
            "Train Epoch: 1 [48000/60000 (80%)]\tLoss: 0.323754\n",
            "Train Epoch: 1 [48640/60000 (81%)]\tLoss: 0.090201\n",
            "Train Epoch: 1 [49280/60000 (82%)]\tLoss: 0.374699\n",
            "Train Epoch: 1 [49920/60000 (83%)]\tLoss: 0.286216\n",
            "Train Epoch: 1 [50560/60000 (84%)]\tLoss: 0.158734\n",
            "Train Epoch: 1 [51200/60000 (85%)]\tLoss: 0.202363\n",
            "Train Epoch: 1 [51840/60000 (86%)]\tLoss: 0.302229\n",
            "Train Epoch: 1 [52480/60000 (87%)]\tLoss: 0.444575\n",
            "Train Epoch: 1 [53120/60000 (88%)]\tLoss: 0.326761\n",
            "Train Epoch: 1 [53760/60000 (90%)]\tLoss: 0.379302\n",
            "Train Epoch: 1 [54400/60000 (91%)]\tLoss: 0.167444\n",
            "Train Epoch: 1 [55040/60000 (92%)]\tLoss: 0.174974\n",
            "Train Epoch: 1 [55680/60000 (93%)]\tLoss: 0.282516\n",
            "Train Epoch: 1 [56320/60000 (94%)]\tLoss: 0.554000\n",
            "Train Epoch: 1 [56960/60000 (95%)]\tLoss: 0.348336\n",
            "Train Epoch: 1 [57600/60000 (96%)]\tLoss: 0.074665\n",
            "Train Epoch: 1 [58240/60000 (97%)]\tLoss: 0.479768\n",
            "Train Epoch: 1 [58880/60000 (98%)]\tLoss: 0.226439\n",
            "Train Epoch: 1 [59520/60000 (99%)]\tLoss: 0.188704\n",
            "\n",
            "Test set: Avg. loss: 0.1263, Accuracy: 9578/10000 (96%)\n",
            "\n",
            "Train Epoch: 2 [0/60000 (0%)]\tLoss: 0.545612\n",
            "Train Epoch: 2 [640/60000 (1%)]\tLoss: 0.170558\n",
            "Train Epoch: 2 [1280/60000 (2%)]\tLoss: 0.256761\n",
            "Train Epoch: 2 [1920/60000 (3%)]\tLoss: 0.082318\n",
            "Train Epoch: 2 [2560/60000 (4%)]\tLoss: 0.180230\n",
            "Train Epoch: 2 [3200/60000 (5%)]\tLoss: 0.440356\n"
          ],
          "name": "stdout"
        }
      ]
    },
    {
      "cell_type": "code",
      "metadata": {
        "id": "i05y2jSLIAdY",
        "colab_type": "code",
        "colab": {}
      },
      "source": [
        "#evaluating the models performance\n",
        "#plotting the training curve\n",
        "\n",
        "fig = plt.figure()\n",
        "plt.plot(train_counter, train_losses, color='blue')\n",
        "plt.scatter(test_counter, test_losses, color='red')\n",
        "plt.legend(['Train Loss', 'Test Loss'], loc='upper right')\n",
        "plt.xlabel('number of training examples seen')\n",
        "plt.ylabel('negative log likelihood loss')\n",
        "fig"
      ],
      "execution_count": null,
      "outputs": []
    },
    {
      "cell_type": "code",
      "metadata": {
        "id": "Ctwz7iZbJeLq",
        "colab_type": "code",
        "colab": {}
      },
      "source": [
        "#taking a look at a few examples and compare model output\n",
        "with torch.no_grad():\n",
        "  output = network(example_data)\n",
        "\n",
        "fig = plt.figure()\n",
        "for i in range(6):\n",
        "  plt.subplot(2,3,i+1)\n",
        "  plt.tight_layout()\n",
        "  plt.imshow(example_data[i][0], cmap='gray', interpolation='none')\n",
        "  plt.title(\"Prediction: {}\".format(\n",
        "    output.data.max(1, keepdim=True)[1][i].item()))\n",
        "  plt.xticks([])\n",
        "  plt.yticks([])\n",
        "fig"
      ],
      "execution_count": null,
      "outputs": []
    },
    {
      "cell_type": "code",
      "metadata": {
        "id": "1fJQ6EvlJbH7",
        "colab_type": "code",
        "colab": {}
      },
      "source": [
        ""
      ],
      "execution_count": null,
      "outputs": []
    }
  ]
}